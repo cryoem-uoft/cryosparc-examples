{
 "cells": [
  {
   "cell_type": "code",
   "execution_count": null,
   "metadata": {},
   "outputs": [
    {
     "name": "stdout",
     "output_type": "stream",
     "text": [
      "Connection succeeded to CryoSPARC API at http://cryoem0.sbi:40002\n"
     ]
    }
   ],
   "source": [
    "from cryosparc.tools import CryoSPARC\n",
    "import json\n",
    "import re\n",
    "with open('/u/rposert/instance-info.json', 'r') as f:\n",
    "    instance_info = json.load(f)\n",
    "\n",
    "cs = CryoSPARC(**instance_info)\n",
    "assert cs.test_connection()\n",
    "\n",
    "project_uid = \"P332\"\n",
    "workspace_uid = \"W2\"\n",
    "\n",
    "project = cs.find_project(project_uid)"
   ]
  },
  {
   "cell_type": "code",
   "execution_count": 2,
   "metadata": {},
   "outputs": [],
   "source": [
    "cs_parts_job = project.find_job('J134')\n",
    "cs_parts = cs_parts_job.load_output('split_1')\n",
    "rel_parts_job = project.find_job('J217')\n",
    "rel_parts = rel_parts_job.load_output('imported_particles')"
   ]
  },
  {
   "cell_type": "code",
   "execution_count": 3,
   "metadata": {},
   "outputs": [],
   "source": [
    "uid_pattern = r\"^[0-9]{21}_\"\n",
    "def remove_uid(uid_mic:str) -> str:\n",
    "    uid_mic = uid_mic.split('/')[-1]\n",
    "    match = re.match(uid_pattern, uid_mic)\n",
    "    while match:\n",
    "        uid_mic = re.sub(uid_pattern, '', uid_mic)\n",
    "        match = re.match(uid_pattern, uid_mic)\n",
    "    return uid_mic"
   ]
  },
  {
   "cell_type": "code",
   "execution_count": 4,
   "metadata": {},
   "outputs": [],
   "source": [
    "rel_parts.add_fields(fields = ['img'], dtypes = ['str'])\n",
    "rel_parts['img'] = [\n",
    "    f\"{i}@{remove_uid(m)}\"\n",
    "    for m, i in zip(rel_parts['blob/path'], rel_parts['blob/idx'])\n",
    "]"
   ]
  },
  {
   "cell_type": "code",
   "execution_count": 5,
   "metadata": {},
   "outputs": [],
   "source": [
    "cs_parts.add_fields(fields = ['img'], dtypes = ['str'])\n",
    "cs_parts['img'] = [f\"{i}@{remove_uid(m)}\" for m, i in zip(cs_parts['blob/path'], cs_parts['blob/idx'])]"
   ]
  },
  {
   "cell_type": "code",
   "execution_count": 6,
   "metadata": {},
   "outputs": [],
   "source": [
    "for i, img in enumerate(rel_parts['img']):\n",
    "    query_results = cs_parts.query({'img': img})\n",
    "    assert len(query_results) == 1, 'Found multiple particles with same img name'\n",
    "    rel_parts['uid'][i] = query_results['uid'][0]"
   ]
  },
  {
   "cell_type": "code",
   "execution_count": null,
   "metadata": {},
   "outputs": [
    {
     "data": {
      "text/plain": [
       "'J6506'"
      ]
     },
     "execution_count": 7,
     "metadata": {},
     "output_type": "execute_result"
    }
   ],
   "source": [
    "drop_image = rel_parts.drop_fields('img', copy = True)\n",
    "cs.save_external_result(\n",
    "    project_uid,\n",
    "    workspace_uid,\n",
    "    drop_image,\n",
    "    type = 'particle',\n",
    "    name = 'CryoSPARC-UIDs',\n",
    "    title = 'CryoSPARC UIDs'\n",
    ")   "
   ]
  }
 ],
 "metadata": {
  "kernelspec": {
   "display_name": "cs-tools",
   "language": "python",
   "name": "python3"
  },
  "language_info": {
   "codemirror_mode": {
    "name": "ipython",
    "version": 3
   },
   "file_extension": ".py",
   "mimetype": "text/x-python",
   "name": "python",
   "nbconvert_exporter": "python",
   "pygments_lexer": "ipython3",
   "version": "3.12.0"
  }
 },
 "nbformat": 4,
 "nbformat_minor": 2
}
