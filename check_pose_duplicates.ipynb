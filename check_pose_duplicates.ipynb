{
 "cells": [
  {
   "cell_type": "code",
   "execution_count": 15,
   "metadata": {},
   "outputs": [
    {
     "name": "stdout",
     "output_type": "stream",
     "text": [
      "Connection succeeded to CryoSPARC command_core at http://cryoem0.sbi:40002\n",
      "Connection succeeded to CryoSPARC command_vis at http://cryoem0.sbi:40003\n",
      "Connection succeeded to CryoSPARC command_rtp at http://cryoem0.sbi:40005\n"
     ]
    }
   ],
   "source": [
    "from cryosparc.tools import CryoSPARC\n",
    "import json\n",
    "import numpy as np\n",
    "import pandas as pd\n",
    "from pathlib import Path\n",
    "with open(Path('~/instance-info.json').expanduser(), 'r') as f:\n",
    "    instance_info = json.load(f)\n",
    "\n",
    "cs = CryoSPARC(**instance_info)\n",
    "assert cs.test_connection()\n",
    "\n",
    "project_number = \"P310\"\n",
    "workspace_number = \"W2\"\n",
    "job_number = \"J58\"\n",
    "\n",
    "project = cs.find_project(project_number)\n",
    "job = project.find_job(job_number)\n",
    "results = job.load_output(\"split_0\")\n"
   ]
  },
  {
   "cell_type": "code",
   "execution_count": 16,
   "metadata": {},
   "outputs": [],
   "source": [
    "# slow, sorry\n",
    "full_df = pd.DataFrame(results.rows())"
   ]
  },
  {
   "cell_type": "code",
   "execution_count": 20,
   "metadata": {},
   "outputs": [
    {
     "data": {
      "text/html": [
       "<div>\n",
       "<style scoped>\n",
       "    .dataframe tbody tr th:only-of-type {\n",
       "        vertical-align: middle;\n",
       "    }\n",
       "\n",
       "    .dataframe tbody tr th {\n",
       "        vertical-align: top;\n",
       "    }\n",
       "\n",
       "    .dataframe thead th {\n",
       "        text-align: right;\n",
       "    }\n",
       "</style>\n",
       "<table border=\"1\" class=\"dataframe\">\n",
       "  <thead>\n",
       "    <tr style=\"text-align: right;\">\n",
       "      <th></th>\n",
       "      <th>alignments3D/class</th>\n",
       "      <th>alignments3D/pose</th>\n",
       "      <th>uid</th>\n",
       "      <th>sym_expand/src_uid</th>\n",
       "    </tr>\n",
       "  </thead>\n",
       "  <tbody>\n",
       "    <tr>\n",
       "      <th>0</th>\n",
       "      <td>1</td>\n",
       "      <td>[0.8240723, -2.0247228, 2.1005526]</td>\n",
       "      <td>5102977743274490089</td>\n",
       "      <td>5102977743274490089</td>\n",
       "    </tr>\n",
       "    <tr>\n",
       "      <th>1</th>\n",
       "      <td>1</td>\n",
       "      <td>[1.1745524, -1.2027127, -1.7076085]</td>\n",
       "      <td>7861261775274868257</td>\n",
       "      <td>1634749157119916066</td>\n",
       "    </tr>\n",
       "    <tr>\n",
       "      <th>2</th>\n",
       "      <td>1</td>\n",
       "      <td>[1.6627127, -0.70035493, -0.95698214]</td>\n",
       "      <td>12875478332620446849</td>\n",
       "      <td>12875478332620446849</td>\n",
       "    </tr>\n",
       "    <tr>\n",
       "      <th>3</th>\n",
       "      <td>1</td>\n",
       "      <td>[1.0091319, -0.37099874, -1.9075645]</td>\n",
       "      <td>3944933812928148443</td>\n",
       "      <td>3944933812928148443</td>\n",
       "    </tr>\n",
       "    <tr>\n",
       "      <th>4</th>\n",
       "      <td>1</td>\n",
       "      <td>[-1.6078465, 0.37382147, -0.08112675]</td>\n",
       "      <td>10778458160678512335</td>\n",
       "      <td>10778458160678512335</td>\n",
       "    </tr>\n",
       "    <tr>\n",
       "      <th>...</th>\n",
       "      <td>...</td>\n",
       "      <td>...</td>\n",
       "      <td>...</td>\n",
       "      <td>...</td>\n",
       "    </tr>\n",
       "    <tr>\n",
       "      <th>77485</th>\n",
       "      <td>2</td>\n",
       "      <td>[-0.3884624, 0.48980042, 1.3884416]</td>\n",
       "      <td>2644814842965745625</td>\n",
       "      <td>2876748623775182921</td>\n",
       "    </tr>\n",
       "    <tr>\n",
       "      <th>77486</th>\n",
       "      <td>2</td>\n",
       "      <td>[2.4748948, -0.42047793, -1.2445024]</td>\n",
       "      <td>16174953670100347404</td>\n",
       "      <td>16174953670100347404</td>\n",
       "    </tr>\n",
       "    <tr>\n",
       "      <th>77487</th>\n",
       "      <td>2</td>\n",
       "      <td>[0.36773956, 2.1644812, 0.42024016]</td>\n",
       "      <td>10064521577564522981</td>\n",
       "      <td>16174953670100347404</td>\n",
       "    </tr>\n",
       "    <tr>\n",
       "      <th>77488</th>\n",
       "      <td>2</td>\n",
       "      <td>[0.5504791, -1.5322258, -2.2334733]</td>\n",
       "      <td>17905466341131595219</td>\n",
       "      <td>17905466341131595219</td>\n",
       "    </tr>\n",
       "    <tr>\n",
       "      <th>77489</th>\n",
       "      <td>2</td>\n",
       "      <td>[-1.7426021, 0.55047995, 0.25595564]</td>\n",
       "      <td>9598914564411113704</td>\n",
       "      <td>9598914564411113704</td>\n",
       "    </tr>\n",
       "  </tbody>\n",
       "</table>\n",
       "<p>77490 rows × 4 columns</p>\n",
       "</div>"
      ],
      "text/plain": [
       "       alignments3D/class                      alignments3D/pose  \\\n",
       "0                       1     [0.8240723, -2.0247228, 2.1005526]   \n",
       "1                       1    [1.1745524, -1.2027127, -1.7076085]   \n",
       "2                       1  [1.6627127, -0.70035493, -0.95698214]   \n",
       "3                       1   [1.0091319, -0.37099874, -1.9075645]   \n",
       "4                       1  [-1.6078465, 0.37382147, -0.08112675]   \n",
       "...                   ...                                    ...   \n",
       "77485                   2    [-0.3884624, 0.48980042, 1.3884416]   \n",
       "77486                   2   [2.4748948, -0.42047793, -1.2445024]   \n",
       "77487                   2    [0.36773956, 2.1644812, 0.42024016]   \n",
       "77488                   2    [0.5504791, -1.5322258, -2.2334733]   \n",
       "77489                   2   [-1.7426021, 0.55047995, 0.25595564]   \n",
       "\n",
       "                        uid    sym_expand/src_uid  \n",
       "0       5102977743274490089   5102977743274490089  \n",
       "1       7861261775274868257   1634749157119916066  \n",
       "2      12875478332620446849  12875478332620446849  \n",
       "3       3944933812928148443   3944933812928148443  \n",
       "4      10778458160678512335  10778458160678512335  \n",
       "...                     ...                   ...  \n",
       "77485   2644814842965745625   2876748623775182921  \n",
       "77486  16174953670100347404  16174953670100347404  \n",
       "77487  10064521577564522981  16174953670100347404  \n",
       "77488  17905466341131595219  17905466341131595219  \n",
       "77489   9598914564411113704   9598914564411113704  \n",
       "\n",
       "[77490 rows x 4 columns]"
      ]
     },
     "execution_count": 20,
     "metadata": {},
     "output_type": "execute_result"
    }
   ],
   "source": [
    "df = full_df[['alignments3D/class', 'alignments3D/pose', 'uid', 'sym_expand/src_uid']]\n",
    "df"
   ]
  },
  {
   "cell_type": "code",
   "execution_count": 68,
   "metadata": {},
   "outputs": [],
   "source": [
    "import itertools\n",
    "max_sym = max(full_df['sym_expand/idx']) + 1\n",
    "# in this case with only C2 symmetry this is trivially a single combination, but with higher\n",
    "# symmetries this goes as N choose 2\n",
    "combs = list(itertools.combinations(range(max_sym), 2))"
   ]
  },
  {
   "cell_type": "code",
   "execution_count": 138,
   "metadata": {},
   "outputs": [],
   "source": [
    "def check_close_poses(df_group, idx_a, idx_b, treat_classes_separately = False, **kwargs) -> bool:\n",
    "    class_a = df_group['alignments3D/class'].iloc[idx_a]\n",
    "    class_b = df_group['alignments3D/class'].iloc[idx_b]\n",
    "    if class_a != class_b and treat_classes_separately:\n",
    "        return False\n",
    "    \n",
    "    pose_a = df_group['alignments3D/pose'].iloc[idx_a]\n",
    "    pose_b = df_group['alignments3D/pose'].iloc[idx_b]\n",
    "    return np.allclose(pose_a, pose_b, **kwargs)\n",
    "\n",
    "duplicate_uids = set()\n",
    "\n",
    "def check_all_combs(df_group, **kwargs):\n",
    "    for comb in combs:\n",
    "        if check_close_poses(df_group, comb[0], comb[1], **kwargs):\n",
    "            duplicate_uids.add(df_group['uid'].iloc[comb[0]])\n",
    "            duplicate_uids.add(df_group['uid'].iloc[comb[1]])\n",
    "\n",
    "\n",
    "for name, group in df.groupby('sym_expand/src_uid'):\n",
    "    # atol controls the number of radians **in each of the three axes** the pose vectors\n",
    "    # can be different and still counted as the same.\n",
    "    # \n",
    "    # You almost certainly want it to be a much smaller number\n",
    "    check_all_combs(group, treat_classes_separately = True, atol = np.pi / 2)"
   ]
  },
  {
   "cell_type": "code",
   "execution_count": 139,
   "metadata": {},
   "outputs": [
    {
     "name": "stdout",
     "output_type": "stream",
     "text": [
      "10166874555787842557\n",
      "2477621879404028084\n"
     ]
    }
   ],
   "source": [
    "print(*duplicate_uids, sep = '\\n')"
   ]
  }
 ],
 "metadata": {
  "kernelspec": {
   "display_name": "cs-tools",
   "language": "python",
   "name": "python3"
  },
  "language_info": {
   "codemirror_mode": {
    "name": "ipython",
    "version": 3
   },
   "file_extension": ".py",
   "mimetype": "text/x-python",
   "name": "python",
   "nbconvert_exporter": "python",
   "pygments_lexer": "ipython3",
   "version": "3.12.0"
  }
 },
 "nbformat": 4,
 "nbformat_minor": 2
}
