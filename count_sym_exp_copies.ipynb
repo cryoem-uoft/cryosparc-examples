{
 "cells": [
  {
   "cell_type": "code",
   "execution_count": 6,
   "metadata": {},
   "outputs": [
    {
     "name": "stdout",
     "output_type": "stream",
     "text": [
      "Connection succeeded to CryoSPARC command_core at http://cryoem0.sbi:40002\n",
      "Connection succeeded to CryoSPARC command_vis at http://cryoem0.sbi:40003\n",
      "Connection succeeded to CryoSPARC command_rtp at http://cryoem0.sbi:40005\n"
     ]
    }
   ],
   "source": [
    "from cryosparc.tools import CryoSPARC\n",
    "import json\n",
    "from pathlib import Path\n",
    "from collections import Counter\n",
    "\n",
    "with open(Path('~/instance-info.json').expanduser(), 'r') as f:\n",
    "    instance_info = json.load(f)\n",
    "\n",
    "cs = CryoSPARC(**instance_info)\n",
    "assert cs.test_connection()\n",
    "\n",
    "project_number = \"P294\"\n",
    "workspace_number = \"W3\"\n",
    "job_number = \"J77\"\n",
    "# change this for other job types\n",
    "output_name = \"split_0\"\n",
    "\n",
    "project = cs.find_project(project_number)\n",
    "job = project.find_job(job_number)\n",
    "results = job.load_output(output_name)"
   ]
  },
  {
   "cell_type": "code",
   "execution_count": 13,
   "metadata": {},
   "outputs": [],
   "source": [
    "counted_src_uids = Counter(results['sym_expand/src_uid'])\n",
    "highest_count = counted_src_uids.most_common(1)[0][1]"
   ]
  },
  {
   "cell_type": "code",
   "execution_count": 15,
   "metadata": {},
   "outputs": [],
   "source": [
    "def count_threshold(threshold):\n",
    "    filtered_src_uids = [\n",
    "        src_uid\n",
    "        for src_uid, count in counted_src_uids.items()\n",
    "        if count == threshold\n",
    "    ]\n",
    "    filtered_dataset = results.query({\n",
    "        \"sym_expand/src_uid\": filtered_src_uids\n",
    "    })\n",
    "    return filtered_dataset\n",
    "\n",
    "thresholded_datasets = {}\n",
    "for thresh in range(1, highest_count + 1):\n",
    "    thresholded_datasets[thresh] = count_threshold(thresh)"
   ]
  },
  {
   "cell_type": "code",
   "execution_count": 16,
   "metadata": {},
   "outputs": [
    {
     "data": {
      "image/png": "[encoded data removed]",
      "text/plain": [
       "<Figure size 800x300 with 1 Axes>"
      ]
     },
     "metadata": {},
     "output_type": "display_data"
    }
   ],
   "source": [
    "import matplotlib.pyplot as plt\n",
    "fig, ax = plt.subplots(figsize = (8, 3))\n",
    "ax.bar(\n",
    "    thresholded_datasets.keys(),\n",
    "    [len(x) for x in thresholded_datasets.values()]\n",
    ")\n",
    "ax.set_ylabel('Number of particles')\n",
    "ax.set_xlabel('Count threshold')\n",
    "fig.tight_layout()"
   ]
  },
  {
   "cell_type": "code",
   "execution_count": 5,
   "metadata": {},
   "outputs": [],
   "source": [
    "out_job = project.create_external_job(\n",
    "    workspace_uid=workspace_number,\n",
    "    title=f\"Threshold particle counts\",\n",
    "    desc=\"Each output contains particles with at least N copies in input. Outputs are *not* disjoint.\"\n",
    ")\n",
    "out_job.add_input(\n",
    "    type = \"particle\",\n",
    "    name = \"input_particles\"\n",
    ")\n",
    "out_job.connect(\n",
    "    target_input = \"input_particles\",\n",
    "    source_job_uid = job_number,\n",
    "    source_output = output_name\n",
    ")\n",
    "\n",
    "for thresh, dset in thresholded_datasets.items():\n",
    "    output = out_job.add_output(\n",
    "        type = \"particle\",\n",
    "        name = f\"threshold_{thresh}\",\n",
    "        passthrough = \"input_particles\",\n",
    "        slots = [\"blob\"],\n",
    "        alloc = dset\n",
    "    )\n",
    "    out_job.save_output(f\"threshold_{thresh}\", dset)\n",
    "\n",
    "out_job.log_plot(fig, \"Histogram of particles retained at each threshold.\")\n",
    "out_job.stop()"
   ]
  }
 ],
 "metadata": {
  "kernelspec": {
   "display_name": "cs-tools",
   "language": "python",
   "name": "python3"
  },
  "language_info": {
   "codemirror_mode": {
    "name": "ipython",
    "version": 3
   },
   "file_extension": ".py",
   "mimetype": "text/x-python",
   "name": "python",
   "nbconvert_exporter": "python",
   "pygments_lexer": "ipython3",
   "version": "3.12.0"
  }
 },
 "nbformat": 4,
 "nbformat_minor": 2
}
