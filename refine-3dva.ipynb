{
 "cells": [
  {
   "cell_type": "markdown",
   "metadata": {},
   "source": [
    "# Refine 3DVA\n",
    "This notebook imports selected frames from a 3DVA Display job and imports them as unique volumes, then queues a Non-Uniform Refinement of each imported volume."
   ]
  },
  {
   "cell_type": "code",
   "execution_count": 11,
   "metadata": {},
   "outputs": [
    {
     "name": "stdout",
     "output_type": "stream",
     "text": [
      "Connection succeeded to CryoSPARC command_core at http://cryoem0.sbi:62062\n",
      "Connection succeeded to CryoSPARC command_vis at http://cryoem0.sbi:62063\n",
      "Connection succeeded to CryoSPARC command_rtp at http://cryoem0.sbi:62065\n"
     ]
    }
   ],
   "source": [
    "from cryosparc.tools import CryoSPARC\n",
    "import json\n",
    "import numpy as np\n",
    "from pathlib import Path\n",
    "import zipfile\n",
    "\n",
    "with open(Path('~/release-info.json').expanduser(), 'r') as f:\n",
    "    instance_info = json.load(f)\n",
    "\n",
    "cs = CryoSPARC(**instance_info)\n",
    "assert cs.test_connection()\n",
    "\n",
    "project_number = \"P60\"\n",
    "workspace_number = \"W2\"\n",
    "job_number = \"J7\"\n",
    "\n",
    "project = cs.find_project(project_number)\n",
    "workspace = project.find_workspace(workspace_number)\n",
    "var_job = project.find_job(job_number)"
   ]
  },
  {
   "cell_type": "markdown",
   "metadata": {},
   "source": [
    "First, we unzip and import the volumes as per [this example](https://tools.cryosparc.com/examples/connect_series_to_class3D.html).\n",
    "However, instead of loading all volumes in one job, we load only the volumes we are interested in refining."
   ]
  },
  {
   "cell_type": "code",
   "execution_count": 3,
   "metadata": {},
   "outputs": [],
   "source": [
    "vol_series = var_job.load_output('series_0')\n",
    "vol_series_path = project.dir() / vol_series['series/path'][0]\n",
    "unzip_path = vol_series_path.with_suffix(\"\")\n",
    "\n",
    "with zipfile.ZipFile(vol_series_path, 'r') as z:\n",
    "    z.extractall(unzip_path)"
   ]
  },
  {
   "cell_type": "code",
   "execution_count": 8,
   "metadata": {},
   "outputs": [],
   "source": [
    "frames_of_interest = [0, 4, 5, 6]"
   ]
  },
  {
   "cell_type": "code",
   "execution_count": 10,
   "metadata": {},
   "outputs": [
    {
     "data": {
      "text/plain": [
       "'completed'"
      ]
     },
     "execution_count": 10,
     "metadata": {},
     "output_type": "execute_result"
    }
   ],
   "source": [
    "lane = \"cryoem9\"\n",
    "\n",
    "vol_import_jobs = {}\n",
    "\n",
    "for f_num in frames_of_interest:\n",
    "\n",
    "    vol_import_jobs[f_num] = workspace.create_job(\n",
    "        \"import_volumes\",\n",
    "        params = {\n",
    "            \"volume_blob_path\": str(unzip_path / f\"*{f_num:0>3}.mrc\")\n",
    "        },\n",
    "        title = f\"Frame {f_num:0>3}\"\n",
    "    )\n",
    "    vol_import_jobs[f_num].queue(lane)\n",
    "    \n",
    "vol_import_jobs[f_num].wait_for_done()"
   ]
  },
  {
   "cell_type": "markdown",
   "metadata": {},
   "source": [
    "Now we queue the refinement jobs."
   ]
  },
  {
   "cell_type": "code",
   "execution_count": 16,
   "metadata": {},
   "outputs": [
    {
     "data": {
      "text/plain": [
       "'completed'"
      ]
     },
     "execution_count": 16,
     "metadata": {},
     "output_type": "execute_result"
    }
   ],
   "source": [
    "refinement_jobs = {}\n",
    "\n",
    "for f_num in frames_of_interest:\n",
    "\n",
    "    refinement_jobs[f_num] = workspace.create_job(\n",
    "        \"nonuniform_refine_new\",\n",
    "        connections = {\n",
    "            \"particles\": (job_number, f\"particles_series_0_frame_{f_num}\"),\n",
    "            \"volume\": (vol_import_jobs[f_num].doc[\"uid\"], \"imported_volume_1\")\n",
    "        },\n",
    "        params = {\n",
    "            # set as appropriate\n",
    "            \"refine_res_init\": 10\n",
    "        },\n",
    "        title = f\"Frame {f_num:0>3}\"\n",
    "    )\n",
    "    refinement_jobs[f_num].queue(lane)\n",
    "\n",
    "refinement_jobs[f_num].wait_for_done()"
   ]
  }
 ],
 "metadata": {
  "kernelspec": {
   "display_name": "cs-tools",
   "language": "python",
   "name": "python3"
  },
  "language_info": {
   "codemirror_mode": {
    "name": "ipython",
    "version": 3
   },
   "file_extension": ".py",
   "mimetype": "text/x-python",
   "name": "python",
   "nbconvert_exporter": "python",
   "pygments_lexer": "ipython3",
   "version": "3.8.19"
  }
 },
 "nbformat": 4,
 "nbformat_minor": 2
}
