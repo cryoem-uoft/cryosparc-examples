{
 "cells": [
  {
   "cell_type": "code",
   "execution_count": 1,
   "metadata": {},
   "outputs": [],
   "source": [
    "from cryosparc.tools import CryoSPARC\n",
    "import json\n",
    "import numpy as np"
   ]
  },
  {
   "cell_type": "code",
   "execution_count": 2,
   "metadata": {},
   "outputs": [
    {
     "name": "stdout",
     "output_type": "stream",
     "text": [
      "Connection succeeded to CryoSPARC command_core at http://cryoem0.sbi:40002\n",
      "Connection succeeded to CryoSPARC command_vis at http://cryoem0.sbi:40003\n",
      "Connection succeeded to CryoSPARC command_rtp at http://cryoem0.sbi:40005\n"
     ]
    }
   ],
   "source": [
    "with open('/u/rposert/instance-info.json', 'r') as f:\n",
    "    instance_info = json.load(f)\n",
    "\n",
    "cs = CryoSPARC(**instance_info)\n",
    "assert cs.test_connection()"
   ]
  },
  {
   "cell_type": "code",
   "execution_count": 3,
   "metadata": {},
   "outputs": [
    {
     "name": "stdout",
     "output_type": "stream",
     "text": [
      "172\n",
      "6345\n",
      "45697\n",
      "119715\n",
      "133897\n",
      "70323\n",
      "18647\n",
      "2645\n",
      "219\n",
      "10\n"
     ]
    }
   ],
   "source": [
    "project_number = 'P312'\n",
    "job_number = 'J135'\n",
    "project = cs.find_project(project_number)\n",
    "refinement = project.find_job(job_number)\n",
    "particles = refinement.load_output('particles')\n",
    "hist, bins = np.histogram(particles['alignments3D/alpha'])\n",
    "print(*hist, sep = '\\n')"
   ]
  },
  {
   "cell_type": "code",
   "execution_count": 4,
   "metadata": {},
   "outputs": [
    {
     "name": "stdout",
     "output_type": "stream",
     "text": [
      "0\n",
      "0\n",
      "0\n",
      "85802\n",
      "133897\n",
      "70323\n",
      "18647\n",
      "2645\n",
      "219\n",
      "10\n"
     ]
    }
   ],
   "source": [
    "scale_threshold = 0.9\n",
    "filtered_particles = particles.query(\n",
    "    lambda row: row['alignments3D/alpha'] >= scale_threshold\n",
    ")\n",
    "print(*np.histogram(filtered_particles['alignments3D/alpha'], bins = bins)[0], sep = '\\n')"
   ]
  },
  {
   "cell_type": "code",
   "execution_count": 5,
   "metadata": {},
   "outputs": [
    {
     "data": {
      "text/plain": [
       "'J335'"
      ]
     },
     "execution_count": 5,
     "metadata": {},
     "output_type": "execute_result"
    }
   ],
   "source": [
    "workspace_number = 'W1'\n",
    "cs.save_external_result(\n",
    "    project_number,\n",
    "    workspace_number,\n",
    "    filtered_particles,\n",
    "    type = 'particle',\n",
    "    passthrough = (job_number, 'particles'),\n",
    "    title = f\"Filtered per-particle scale >= {scale_threshold}\"\n",
    ")"
   ]
  }
 ],
 "metadata": {
  "kernelspec": {
   "display_name": "cs-tools",
   "language": "python",
   "name": "python3"
  },
  "language_info": {
   "codemirror_mode": {
    "name": "ipython",
    "version": 3
   },
   "file_extension": ".py",
   "mimetype": "text/x-python",
   "name": "python",
   "nbconvert_exporter": "python",
   "pygments_lexer": "ipython3",
   "version": "3.12.0"
  },
  "orig_nbformat": 4
 },
 "nbformat": 4,
 "nbformat_minor": 2
}
